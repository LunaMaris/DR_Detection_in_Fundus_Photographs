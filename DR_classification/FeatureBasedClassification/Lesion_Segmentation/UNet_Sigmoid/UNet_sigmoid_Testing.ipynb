{
 "cells": [
  {
   "cell_type": "markdown",
   "metadata": {
    "colab_type": "text",
    "id": "ga1Mx266ltfH"
   },
   "source": [
    "This script is used to perform lesion segmentation in fundus photographs. The lesions that can be segmented are hard exudates, soft exudates, microaneurysms and hemorrhages. The segmentation is based on a UNet, a CNN that takes an image as an input and that outputs a probability map indicating for every pixel the probability of belonging to a certain type of lesion or not."
   ]
  },
  {
   "cell_type": "code",
   "execution_count": null,
   "metadata": {
    "colab": {
     "base_uri": "https://localhost:8080/",
     "height": 483
    },
    "colab_type": "code",
    "executionInfo": {
     "elapsed": 4826,
     "status": "ok",
     "timestamp": 1596194456101,
     "user": {
      "displayName": "Luna Maris",
      "photoUrl": "",
      "userId": "08279542388537467787"
     },
     "user_tz": -120
    },
    "id": "Gf8WnH-elznb",
    "outputId": "6626d92e-e7a8-42c7-a717-54aa48ab770c"
   },
   "outputs": [
    {
     "name": "stdout",
     "output_type": "stream",
     "text": [
      "Requirement already satisfied: tensorlayer==1.11.1 in /usr/local/lib/python3.6/dist-packages (1.11.1)\n",
      "Requirement already satisfied: scikit-image<0.15,>=0.14 in /usr/local/lib/python3.6/dist-packages (from tensorlayer==1.11.1) (0.14.5)\n",
      "Requirement already satisfied: wrapt<1.11,>=1.10 in /usr/local/lib/python3.6/dist-packages (from tensorlayer==1.11.1) (1.10.11)\n",
      "Requirement already satisfied: imageio<2.5,>=2.3 in /usr/local/lib/python3.6/dist-packages (from tensorlayer==1.11.1) (2.4.1)\n",
      "Requirement already satisfied: requests<2.21,>=2.19 in /usr/local/lib/python3.6/dist-packages (from tensorlayer==1.11.1) (2.20.1)\n",
      "Requirement already satisfied: progressbar2<3.39,>=3.38 in /usr/local/lib/python3.6/dist-packages (from tensorlayer==1.11.1) (3.38.0)\n",
      "Requirement already satisfied: tqdm<4.29,>=4.23 in /usr/local/lib/python3.6/dist-packages (from tensorlayer==1.11.1) (4.28.1)\n",
      "Requirement already satisfied: numpy<1.16,>=1.14 in /usr/local/lib/python3.6/dist-packages (from tensorlayer==1.11.1) (1.15.4)\n",
      "Requirement already satisfied: matplotlib<3.1,>=2.2 in /usr/local/lib/python3.6/dist-packages (from tensorlayer==1.11.1) (3.0.3)\n",
      "Requirement already satisfied: scipy<1.2,>=1.1 in /usr/local/lib/python3.6/dist-packages (from tensorlayer==1.11.1) (1.1.0)\n",
      "Requirement already satisfied: lxml<4.3,>=4.2 in /usr/local/lib/python3.6/dist-packages (from tensorlayer==1.11.1) (4.2.6)\n",
      "Requirement already satisfied: scikit-learn<0.21,>=0.19 in /usr/local/lib/python3.6/dist-packages (from tensorlayer==1.11.1) (0.20.4)\n",
      "Requirement already satisfied: networkx>=1.8 in /usr/local/lib/python3.6/dist-packages (from scikit-image<0.15,>=0.14->tensorlayer==1.11.1) (2.4)\n",
      "Requirement already satisfied: six>=1.10.0 in /usr/local/lib/python3.6/dist-packages (from scikit-image<0.15,>=0.14->tensorlayer==1.11.1) (1.15.0)\n",
      "Requirement already satisfied: cloudpickle>=0.2.1 in /usr/local/lib/python3.6/dist-packages (from scikit-image<0.15,>=0.14->tensorlayer==1.11.1) (1.3.0)\n",
      "Requirement already satisfied: pillow>=4.3.0 in /usr/local/lib/python3.6/dist-packages (from scikit-image<0.15,>=0.14->tensorlayer==1.11.1) (7.0.0)\n",
      "Requirement already satisfied: PyWavelets>=0.4.0 in /usr/local/lib/python3.6/dist-packages (from scikit-image<0.15,>=0.14->tensorlayer==1.11.1) (1.1.1)\n",
      "Requirement already satisfied: idna<2.8,>=2.5 in /usr/local/lib/python3.6/dist-packages (from requests<2.21,>=2.19->tensorlayer==1.11.1) (2.7)\n",
      "Requirement already satisfied: chardet<3.1.0,>=3.0.2 in /usr/local/lib/python3.6/dist-packages (from requests<2.21,>=2.19->tensorlayer==1.11.1) (3.0.4)\n",
      "Requirement already satisfied: urllib3<1.25,>=1.21.1 in /usr/local/lib/python3.6/dist-packages (from requests<2.21,>=2.19->tensorlayer==1.11.1) (1.24.3)\n",
      "Requirement already satisfied: certifi>=2017.4.17 in /usr/local/lib/python3.6/dist-packages (from requests<2.21,>=2.19->tensorlayer==1.11.1) (2020.6.20)\n",
      "Requirement already satisfied: python-utils>=2.3.0 in /usr/local/lib/python3.6/dist-packages (from progressbar2<3.39,>=3.38->tensorlayer==1.11.1) (2.4.0)\n",
      "Requirement already satisfied: kiwisolver>=1.0.1 in /usr/local/lib/python3.6/dist-packages (from matplotlib<3.1,>=2.2->tensorlayer==1.11.1) (1.2.0)\n",
      "Requirement already satisfied: pyparsing!=2.0.4,!=2.1.2,!=2.1.6,>=2.0.1 in /usr/local/lib/python3.6/dist-packages (from matplotlib<3.1,>=2.2->tensorlayer==1.11.1) (2.4.7)\n",
      "Requirement already satisfied: cycler>=0.10 in /usr/local/lib/python3.6/dist-packages (from matplotlib<3.1,>=2.2->tensorlayer==1.11.1) (0.10.0)\n",
      "Requirement already satisfied: python-dateutil>=2.1 in /usr/local/lib/python3.6/dist-packages (from matplotlib<3.1,>=2.2->tensorlayer==1.11.1) (2.8.1)\n",
      "Requirement already satisfied: decorator>=4.3.0 in /usr/local/lib/python3.6/dist-packages (from networkx>=1.8->scikit-image<0.15,>=0.14->tensorlayer==1.11.1) (4.4.2)\n",
      "TensorFlow 1.x selected.\n"
     ]
    }
   ],
   "source": [
    "!pip install tensorlayer==1.11.1\n",
    "%tensorflow_version 1.x"
   ]
  },
  {
   "cell_type": "code",
   "execution_count": null,
   "metadata": {
    "colab": {
     "base_uri": "https://localhost:8080/",
     "height": 117
    },
    "colab_type": "code",
    "executionInfo": {
     "elapsed": 12782,
     "status": "ok",
     "timestamp": 1596194464065,
     "user": {
      "displayName": "Luna Maris",
      "photoUrl": "",
      "userId": "08279542388537467787"
     },
     "user_tz": -120
    },
    "id": "9eyAksxJOFsi",
    "outputId": "30766689-f567-400a-e417-9638503c7887"
   },
   "outputs": [
    {
     "name": "stdout",
     "output_type": "stream",
     "text": [
      "WARNING:tensorflow:From /usr/local/lib/python3.6/dist-packages/tensorlayer/layers/core.py:39: The name tf.GraphKeys is deprecated. Please use tf.compat.v1.GraphKeys instead.\n",
      "\n",
      "WARNING:tensorflow:From /usr/local/lib/python3.6/dist-packages/tensorlayer/layers/pooling.py:66: The name tf.nn.max_pool is deprecated. Please use tf.nn.max_pool2d instead.\n",
      "\n",
      "1.15.2\n",
      "1.11.1\n"
     ]
    }
   ],
   "source": [
    "# import necessary libraries\n",
    "\n",
    "import numpy as np\n",
    "import tensorflow as tf\n",
    "import tensorlayer as tl\n",
    "import tensorlayer.layers as tll\n",
    "import tensorflow.keras.backend as K\n",
    "\n",
    "from sklearn.metrics import roc_auc_score\n",
    "from sklearn.metrics import roc_curve\n",
    "from sklearn.metrics import confusion_matrix\n",
    "from sklearn.metrics import precision_recall_curve\n",
    "\n",
    "from sklearn.model_selection import train_test_split\n",
    "\n",
    "import matplotlib.pyplot as plt\n",
    "\n",
    "import time\n",
    "\n",
    "print(tf.__version__)\n",
    "print(tl.__version__)"
   ]
  },
  {
   "cell_type": "code",
   "execution_count": null,
   "metadata": {
    "colab": {
     "base_uri": "https://localhost:8080/",
     "height": 120
    },
    "colab_type": "code",
    "executionInfo": {
     "elapsed": 67780,
     "status": "ok",
     "timestamp": 1596194519756,
     "user": {
      "displayName": "Luna Maris",
      "photoUrl": "",
      "userId": "08279542388537467787"
     },
     "user_tz": -120
    },
    "id": "lcdDhL72ucUH",
    "outputId": "6600f66c-0975-4b27-a89e-bb00d27646b3"
   },
   "outputs": [
    {
     "name": "stdout",
     "output_type": "stream",
     "text": [
      "Go to this URL in a browser: https://accounts.google.com/o/oauth2/auth?client_id=947318989803-6bn6qk8qdgf4n4g3pfee6491hc0brc4i.apps.googleusercontent.com&redirect_uri=urn%3aietf%3awg%3aoauth%3a2.0%3aoob&response_type=code&scope=email%20https%3a%2f%2fwww.googleapis.com%2fauth%2fdocs.test%20https%3a%2f%2fwww.googleapis.com%2fauth%2fdrive%20https%3a%2f%2fwww.googleapis.com%2fauth%2fdrive.photos.readonly%20https%3a%2f%2fwww.googleapis.com%2fauth%2fpeopleapi.readonly\n",
      "\n",
      "Enter your authorization code:\n",
      "··········\n",
      "Mounted at /content/drive\n"
     ]
    }
   ],
   "source": [
    "# read in train and test data in case Google DRIVE is used\n",
    "# from google.colab import drive\n",
    "# drive.mount('/content/drive')"
   ]
  },
  {
   "cell_type": "code",
   "execution_count": null,
   "metadata": {
    "colab": {},
    "colab_type": "code",
    "id": "x4SbTTqBltfN"
   },
   "outputs": [],
   "source": [
    "# read in the train and test data for a certain lesion type\n",
    "\n",
    "# Basepath depends on the lesion\n",
    "# LesionType = 'SoftExudates'\n",
    "LesionType = 'HardExudates'\n",
    "# LesionType = 'Microaneurysms'\n",
    "# LesionType = 'Hemorrhages'"
   ]
  },
  {
   "cell_type": "code",
   "execution_count": null,
   "metadata": {
    "colab": {
     "base_uri": "https://localhost:8080/",
     "height": 83
    },
    "colab_type": "code",
    "executionInfo": {
     "elapsed": 70582,
     "status": "ok",
     "timestamp": 1596194590343,
     "user": {
      "displayName": "Luna Maris",
      "photoUrl": "",
      "userId": "08279542388537467787"
     },
     "user_tz": -120
    },
    "id": "Na905WmrltfS",
    "outputId": "8c293821-dd8b-4eeb-ce3a-6a10bbb4f88f"
   },
   "outputs": [
    {
     "name": "stdout",
     "output_type": "stream",
     "text": [
      "Shape train images: (324, 512, 512, 3)\n",
      "Shape train annotations: (324, 512, 512)\n",
      "Shape test images: (156, 512, 512, 3)\n",
      "Shape test annotations: (156, 512, 512)\n"
     ]
    }
   ],
   "source": [
    "# Basepath for Google DRIVE:\n",
    "# Basepath = '/content/drive/My Drive/Stage_ENT_Studios/Data/IDRiD/' + LesionType + '/Arrays/'\n",
    "\n",
    "# Basepath for Jupyter notebooks:\n",
    "Basepath = 'C:/Users/lunam/Documents/1steMaster/Stage/Data_FinalArrays/IDRiD/'+ LesionType+'/Arrays/'\n",
    "\n",
    "# train data\n",
    "train_images = np.float32(np.load(Basepath + 'train_images_Final.npy'))\n",
    "print('Shape train images: {}'.format(train_images.shape))\n",
    "\n",
    "train_annotations =  np.int32(np.load(Basepath + 'train_annotations_Final.npy'))\n",
    "# train_annotations = np.expand_dims(train_annotations, axis = 3)\n",
    "print('Shape train annotations: {}'.format(train_annotations.shape))\n",
    "\n",
    "# test data\n",
    "test_images = np.float32(np.load(Basepath + 'test_images_Final.npy'))\n",
    "print('Shape test images: {}'.format(test_images.shape))\n",
    "\n",
    "test_annotations = np.int32(np.load(Basepath + 'test_annotations_Final.npy'))\n",
    "# test_annotations = np.expand_dims(test_annotations, axis = 3)\n",
    "print('Shape test annotations: {}'.format(test_annotations.shape))"
   ]
  },
  {
   "cell_type": "code",
   "execution_count": null,
   "metadata": {
    "colab": {},
    "colab_type": "code",
    "id": "DVa4yn4lltfc"
   },
   "outputs": [],
   "source": [
    "# directions where the tensorboard logs and the model are stored\n",
    "\n",
    "# basepath for Google DRIVE\n",
    "# base_path = '/content/drive/My Drive/Stage_ENT_Studios/Unet/Logs/'\n",
    "# basepath for Jupyter notebooks\n",
    "base_path = 'C:/Users/lunam/Documents/1steMaster/Stage/Code_Final/DR_classification/FeatureBasedClassification/UNet_Sigmoid/Logs/'+LesionType+'/'\n",
    "\n",
    "# direction where the tensorboard files will be stored\n",
    "log_dir_tens = base_path + 'Tensorboard_Logs/'\n",
    "# direction where the trained models will be stored\n",
    "log_dir_model = base_path + 'Trained_Model/'\n",
    "\n",
    "# Load the tensorboard extension. Tensorboard will be used to visualize the training and testing of the network\n",
    "%load_ext tensorboard"
   ]
  },
  {
   "cell_type": "code",
   "execution_count": null,
   "metadata": {
    "colab": {},
    "colab_type": "code",
    "id": "FICWJHVxltfh"
   },
   "outputs": [],
   "source": [
    "# The UNet network\n",
    "def UNet(image, drop_prob = 0.1, init_filters = 64, is_train = True):\n",
    "    '''This function defines the original UNet network'''\n",
    "    \n",
    "    # initialization of the weights\n",
    "    W_init = tf.contrib.layers.xavier_initializer()\n",
    "        \n",
    "    # Unet network\n",
    "                \n",
    "    # LEFT part\n",
    "    # input layer\n",
    "    input_image = tl.layers.InputLayer(image)\n",
    "            \n",
    "    # Convolutional block 1\n",
    "    conv2d_1 = tl.layers.Conv2d(input_image, init_filters, (3, 3), act= tf.nn.relu, W_init= W_init)\n",
    "    conv2d_2 = tl.layers.Conv2d(conv2d_1, init_filters, (3, 3), act= tf.nn.relu, W_init= W_init)\n",
    "    pool_1 = tl.layers.MaxPool2d(conv2d_2, (2, 2), (2, 2), name= 'maxpool_1')\n",
    "    dropout_1 = tl.layers.DropoutLayer(pool_1, keep= 1-drop_prob, is_fix = True, is_train=is_train)\n",
    "                \n",
    "    # Convolutional block 2\n",
    "    conv2d_3 = tl.layers.Conv2d(dropout_1, 2*init_filters, (3,3), act= tf.nn.relu, W_init= W_init)\n",
    "    conv2d_4 = tl.layers.Conv2d(conv2d_3, 2*init_filters, (3,3), act= tf.nn.relu, W_init= W_init)\n",
    "    pool_2 = tl.layers.MaxPool2d(conv2d_4, (2,2), (2, 2), name='maxpool_2')\n",
    "    dropout_2 = tl.layers.DropoutLayer(pool_2, keep= 1-drop_prob, is_fix = True, is_train=is_train)\n",
    "                \n",
    "    # Convolutional block 3\n",
    "    conv2d_5 = tl.layers.Conv2d(dropout_2, 4*init_filters, (3,3), act= tf.nn.relu, W_init=W_init)\n",
    "    conv2d_6 = tl.layers.Conv2d(conv2d_5, 4*init_filters, (3,3), act= tf.nn.relu, W_init=W_init)\n",
    "    pool_3 = tl.layers.MaxPool2d(conv2d_6, (2,2), (2, 2), name='maxpool_3')\n",
    "    dropout_3 = tl.layers.DropoutLayer(pool_3, keep= 1-drop_prob, is_fix = True, is_train=is_train)\n",
    "                \n",
    "    # Convolutional block 4\n",
    "    conv2d_7 = tl.layers.Conv2d(dropout_3, 8*init_filters, (3,3), act= tf.nn.relu, W_init=W_init)\n",
    "    conv2d_8 = tl.layers.Conv2d(conv2d_7, 8*init_filters, (3,3), act= tf.nn.relu, W_init=W_init)\n",
    "    pool_4 = tl.layers.MaxPool2d(conv2d_8, (2,2), (2, 2), name='maxpool_4')\n",
    "    dropout_4 = tl.layers.DropoutLayer(pool_4, keep= 1-drop_prob, is_fix = True, is_train=is_train)\n",
    "                \n",
    "    # MIDDLE part\n",
    "    conv2d_9 = tl.layers.Conv2d(dropout_4, 16*init_filters, (3,3), act= tf.nn.relu, W_init=W_init)\n",
    "    conv2d_10 = tl.layers.Conv2d(conv2d_9, 16*init_filters, (3,3), act= tf.nn.relu, W_init=W_init)\n",
    "                \n",
    "                \n",
    "    # RIGHT part\n",
    "    # Convolutional block 1\n",
    "    upsampling_1 = tl.layers.UpSampling2dLayer(conv2d_10, (2,2))\n",
    "    concat_1 = tl.layers.ConcatLayer([upsampling_1, conv2d_8], 3)\n",
    "    dropout_5 = tl.layers.DropoutLayer(concat_1, keep= 1-drop_prob, is_fix = True, is_train=is_train)\n",
    "    conv2d_11 = tl.layers.Conv2d(dropout_5, 8*init_filters, (3,3), act= tf.nn.relu, W_init=W_init)\n",
    "    conv2d_12 = tl.layers.Conv2d(conv2d_11, 8*init_filters, (3,3), act= tf.nn.relu, W_init=W_init)\n",
    "                \n",
    "    # Convolutional block 2\n",
    "    upsampling_2 = tl.layers.UpSampling2dLayer(conv2d_12, (2,2))\n",
    "    concat_2 = tl.layers.ConcatLayer([upsampling_2, conv2d_6], 3)\n",
    "    dropout_6 = tl.layers.DropoutLayer(concat_2, keep= 1-drop_prob, is_fix = True, is_train=is_train)\n",
    "    conv2d_13 = tl.layers.Conv2d(dropout_6, 4*init_filters, (3,3), act= tf.nn.relu, W_init=W_init)\n",
    "    conv2d_14 = tl.layers.Conv2d(conv2d_13, 4*init_filters, (3,3), act= tf.nn.relu, W_init=W_init)\n",
    "            \n",
    "                \n",
    "    # Convolutional block 3\n",
    "    upsampling_3 = tl.layers.UpSampling2dLayer(conv2d_14, (2,2))\n",
    "    concat_3 = tl.layers.ConcatLayer([upsampling_3,conv2d_4], 3)\n",
    "    dropout_7 = tl.layers.DropoutLayer(concat_3, keep= 1-drop_prob, is_fix = True, is_train=is_train)\n",
    "    conv2d_15 = tl.layers.Conv2d(dropout_7, 2*init_filters, (3,3), act= tf.nn.relu, W_init= W_init)\n",
    "    conv2d_16 = tl.layers.Conv2d(conv2d_15, 2*init_filters, (3,3), act= tf.nn.relu, W_init= W_init)\n",
    "                \n",
    "    # Convolutional block 4\n",
    "    upsampling_4 = tl.layers.UpSampling2dLayer(conv2d_16, (2,2))\n",
    "    concat_4 = tl.layers.ConcatLayer([upsampling_4,conv2d_2], 3)\n",
    "    dropout_8 = tl.layers.DropoutLayer(concat_4, keep= 1-drop_prob, is_fix = True, is_train=is_train)\n",
    "    conv2d_17 = tl.layers.Conv2d(dropout_8, init_filters, (3,3), act= tf.nn.relu, W_init= W_init)\n",
    "    conv2d_18 = tl.layers.Conv2d(conv2d_17, init_filters, (3,3), act= tf.nn.relu, W_init= W_init)\n",
    "                \n",
    "                \n",
    "    # ouput layer\n",
    "    output_image = tl.layers.Conv2d(conv2d_18, 1, (1,1), W_init= W_init) \n",
    "\n",
    "    # logits tensor, often a step inbetween befor a softmax activation is applied (size im_size x im_size, 2)\n",
    "    logits = output_image.outputs\n",
    "\n",
    "    # the model\n",
    "    model = output_image\n",
    "\n",
    "    # a binary output map with size im_size x im_size can be found by applying the argmax operation\n",
    "    # this operation yields 0 or 1 for every pixel position depending on whether the value in the first or second image is the largest\n",
    "    binary_prediction = tf.math.argmax(logits, axis= 3, name= 'prediction')\n",
    "        \n",
    "    return binary_prediction, logits, output_image"
   ]
  },
  {
   "cell_type": "markdown",
   "metadata": {
    "colab_type": "text",
    "id": "cRA4CnZE8YyA"
   },
   "source": [
    "Visualize the training process with tensorboard"
   ]
  },
  {
   "cell_type": "code",
   "execution_count": null,
   "metadata": {
    "colab": {},
    "colab_type": "code",
    "id": "jjfEDsqrkurF"
   },
   "outputs": [],
   "source": [
    "# visualize the training results with tensorboard\n",
    "# %tensorboard --logdir {log_dir_tens}  --host localhost"
   ]
  },
  {
   "cell_type": "code",
   "execution_count": null,
   "metadata": {
    "colab": {},
    "colab_type": "code",
    "id": "JDik2rGzs3j4"
   },
   "outputs": [],
   "source": [
    "def Reload_and_Predict(TestImages, TestAnnotations, Drop_Prob = 0.1, Init_Filters = 64, log_dir_trained_model = log_dir_model, test_batch = 6, epochs = 10):\n",
    "    '''This function reloads a trained model and predicts the annotations of images'''\n",
    "    TestAnnotations = np.expand_dims(TestAnnotations, axis = 3)\n",
    "    TestAnnotations = np.where(TestAnnotations> 0, 1, 0)\n",
    "    \n",
    "    # placeholders are created, variables to which data is assigned later on\n",
    "    print('Create placeholders')\n",
    "    image = tf.placeholder(tf.float32, [None,512,512, 3], name= 'image')\n",
    "    annotation = tf.placeholder(tf.int32, shape=[None, 512, 512, 1], name= \"annotation\")\n",
    "\n",
    "    # Define the model for testing\n",
    "    print('Define the model for testing')\n",
    "    test_pred, test_logits, test_network = UNet(image, drop_prob = Drop_Prob, init_filters = Init_Filters, is_train = False)\n",
    "        \n",
    "    # softmax activation of the output to end up with probability maps\n",
    "    print('Define the probability outputs')\n",
    "    test_positive_prob = tf.nn.sigmoid(test_logits)\n",
    "        \n",
    "    # start up a session in which the pretrained model is reloaded\n",
    "    sess = tf.Session()    \n",
    "    tl.layers.initialize_global_variables(sess)\n",
    "    sess.run(tf.global_variables_initializer())\n",
    "    \n",
    "    print('Restoring model...')\n",
    "    new_saver = tf.train.import_meta_graph(log_dir_trained_model + 'model.ckpt-'+ str(epochs) +'.meta')\n",
    "    ckpt = tf.train.get_checkpoint_state(log_dir_trained_model)\n",
    "    new_saver.restore(sess, ckpt.model_checkpoint_path)\n",
    "    print('Model restored...')\n",
    "        \n",
    "    # predict the annotations for the test images\n",
    "    print('Predicting the test cases...')\n",
    "\n",
    "    # the test samples have to go through in batches as otherwise the memmory crashes\n",
    "    # number of batches\n",
    "    predicted_prob_maps = []\n",
    "    n_batches = int(TestImages.shape[0] / test_batch)\n",
    "    if TestImages.shape[0] % test_batch != 0:\n",
    "        print('Amount of test images is not dividable by the chosen test batch size!')\n",
    "        print('Number of images: {}'.format(TestImages.shape[0]))\n",
    "        print('Chosen batch size: {}'.format( test_batch))\n",
    "\n",
    "    for i in range(n_batches):\n",
    "        start = i*test_batch\n",
    "        end = start + test_batch\n",
    "        feed_dict= {image: TestImages[start:end]}\n",
    "        test_pos_prob= sess.run([test_positive_prob], feed_dict= feed_dict)\n",
    "        test_pos_prob = np.array(test_pos_prob)\n",
    "        \n",
    "        if i == 0:\n",
    "            predicted_prob_maps = test_pos_prob[0,:,:,:,0]\n",
    "        else:\n",
    "            predicted_prob_maps = np.vstack((predicted_prob_maps, test_pos_prob[0,:,:,:,0]))\n",
    "\n",
    "    print('Test data predicted')\n",
    "    \n",
    "    # test_positive_prob gives the output probability map that can be used as an input to the test function\n",
    "    return predicted_prob_maps"
   ]
  },
  {
   "cell_type": "code",
   "execution_count": null,
   "metadata": {
    "colab": {
     "base_uri": "https://localhost:8080/",
     "height": 1000
    },
    "colab_type": "code",
    "executionInfo": {
     "elapsed": 36590,
     "status": "ok",
     "timestamp": 1596199256334,
     "user": {
      "displayName": "Luna Maris",
      "photoUrl": "",
      "userId": "08279542388537467787"
     },
     "user_tz": -120
    },
    "id": "LTXphf7Sltfl",
    "outputId": "22655fa5-eb08-4a9a-9a9d-d0322cd9115e"
   },
   "outputs": [
    {
     "name": "stdout",
     "output_type": "stream",
     "text": [
      "Create placeholders\n",
      "Define the model for testing\n",
      "[TL] InputLayer  input: (?, 512, 512, 3)\n",
      "[TL] Conv2d conv2d: n_filter: 64 filter_size: (3, 3) strides: (1, 1) pad: SAME act: relu\n",
      "[TL] Conv2d conv2d: n_filter: 64 filter_size: (3, 3) strides: (1, 1) pad: SAME act: relu\n",
      "[TL] MaxPool2d maxpool_1: filter_size: (2, 2) strides: (2, 2) padding: SAME\n",
      "[TL] DropoutLayer dropout_layer: keep: 0.900000 is_fix: True\n",
      "[TL]   skip DropoutLayer\n",
      "[TL] Conv2d conv2d: n_filter: 128 filter_size: (3, 3) strides: (1, 1) pad: SAME act: relu\n",
      "[TL] Conv2d conv2d: n_filter: 128 filter_size: (3, 3) strides: (1, 1) pad: SAME act: relu\n",
      "[TL] MaxPool2d maxpool_2: filter_size: (2, 2) strides: (2, 2) padding: SAME\n",
      "[TL] DropoutLayer dropout_layer: keep: 0.900000 is_fix: True\n",
      "[TL]   skip DropoutLayer\n",
      "[TL] Conv2d conv2d: n_filter: 256 filter_size: (3, 3) strides: (1, 1) pad: SAME act: relu\n",
      "[TL] Conv2d conv2d: n_filter: 256 filter_size: (3, 3) strides: (1, 1) pad: SAME act: relu\n",
      "[TL] MaxPool2d maxpool_3: filter_size: (2, 2) strides: (2, 2) padding: SAME\n",
      "[TL] DropoutLayer dropout_layer: keep: 0.900000 is_fix: True\n",
      "[TL]   skip DropoutLayer\n",
      "[TL] Conv2d conv2d: n_filter: 512 filter_size: (3, 3) strides: (1, 1) pad: SAME act: relu\n",
      "[TL] Conv2d conv2d: n_filter: 512 filter_size: (3, 3) strides: (1, 1) pad: SAME act: relu\n",
      "[TL] MaxPool2d maxpool_4: filter_size: (2, 2) strides: (2, 2) padding: SAME\n",
      "[TL] DropoutLayer dropout_layer: keep: 0.900000 is_fix: True\n",
      "[TL]   skip DropoutLayer\n",
      "[TL] Conv2d conv2d: n_filter: 1024 filter_size: (3, 3) strides: (1, 1) pad: SAME act: relu\n",
      "[TL] Conv2d conv2d: n_filter: 1024 filter_size: (3, 3) strides: (1, 1) pad: SAME act: relu\n",
      "[TL] UpSampling2dLayer upsample2d_layer: is_scale: True size: (2, 2) method: 0 align_corners: False\n",
      "[TL] ConcatLayer concat_layer: axis: 3\n",
      "[TL] DropoutLayer dropout_layer: keep: 0.900000 is_fix: True\n",
      "[TL]   skip DropoutLayer\n",
      "[TL] Conv2d conv2d: n_filter: 512 filter_size: (3, 3) strides: (1, 1) pad: SAME act: relu\n",
      "[TL] Conv2d conv2d: n_filter: 512 filter_size: (3, 3) strides: (1, 1) pad: SAME act: relu\n",
      "[TL] UpSampling2dLayer upsample2d_layer: is_scale: True size: (2, 2) method: 0 align_corners: False\n",
      "[TL] ConcatLayer concat_layer: axis: 3\n",
      "[TL] DropoutLayer dropout_layer: keep: 0.900000 is_fix: True\n",
      "[TL]   skip DropoutLayer\n",
      "[TL] Conv2d conv2d: n_filter: 256 filter_size: (3, 3) strides: (1, 1) pad: SAME act: relu\n",
      "[TL] Conv2d conv2d: n_filter: 256 filter_size: (3, 3) strides: (1, 1) pad: SAME act: relu\n",
      "[TL] UpSampling2dLayer upsample2d_layer: is_scale: True size: (2, 2) method: 0 align_corners: False\n",
      "[TL] ConcatLayer concat_layer: axis: 3\n",
      "[TL] DropoutLayer dropout_layer: keep: 0.900000 is_fix: True\n",
      "[TL]   skip DropoutLayer\n",
      "[TL] Conv2d conv2d: n_filter: 128 filter_size: (3, 3) strides: (1, 1) pad: SAME act: relu\n",
      "[TL] Conv2d conv2d: n_filter: 128 filter_size: (3, 3) strides: (1, 1) pad: SAME act: relu\n",
      "[TL] UpSampling2dLayer upsample2d_layer: is_scale: True size: (2, 2) method: 0 align_corners: False\n",
      "[TL] ConcatLayer concat_layer: axis: 3\n",
      "[TL] DropoutLayer dropout_layer: keep: 0.900000 is_fix: True\n",
      "[TL]   skip DropoutLayer\n",
      "[TL] Conv2d conv2d: n_filter: 64 filter_size: (3, 3) strides: (1, 1) pad: SAME act: relu\n",
      "[TL] Conv2d conv2d: n_filter: 64 filter_size: (3, 3) strides: (1, 1) pad: SAME act: relu\n",
      "[TL] Conv2d conv2d: n_filter: 1 filter_size: (1, 1) strides: (1, 1) pad: SAME act: No Activation\n",
      "Define the probability outputs\n",
      "Restoring model...\n",
      "INFO:tensorflow:Restoring parameters from /content/drive/My Drive/Stage_ENT_Studios/Unet/Logs/Trained_Model/Sigmoid/model.ckpt-20\n",
      "Model restored...\n",
      "Predicting the test cases...\n",
      "(1, 6, 512, 512, 1)\n",
      "(1, 6, 512, 512, 1)\n",
      "(1, 6, 512, 512, 1)\n",
      "(1, 6, 512, 512, 1)\n",
      "(1, 6, 512, 512, 1)\n",
      "(1, 6, 512, 512, 1)\n",
      "(1, 6, 512, 512, 1)\n",
      "(1, 6, 512, 512, 1)\n",
      "(1, 6, 512, 512, 1)\n",
      "(1, 6, 512, 512, 1)\n",
      "(1, 6, 512, 512, 1)\n",
      "(1, 6, 512, 512, 1)\n",
      "(1, 6, 512, 512, 1)\n",
      "(1, 6, 512, 512, 1)\n",
      "(1, 6, 512, 512, 1)\n",
      "(1, 6, 512, 512, 1)\n",
      "(1, 6, 512, 512, 1)\n",
      "(1, 6, 512, 512, 1)\n",
      "(1, 6, 512, 512, 1)\n",
      "(1, 6, 512, 512, 1)\n",
      "(1, 6, 512, 512, 1)\n",
      "(1, 6, 512, 512, 1)\n",
      "(1, 6, 512, 512, 1)\n",
      "(1, 6, 512, 512, 1)\n",
      "(1, 6, 512, 512, 1)\n",
      "(1, 6, 512, 512, 1)\n",
      "Test data predicted\n"
     ]
    }
   ],
   "source": [
    "predicted_annot = Reload_and_Predict(test_images, test_annotations, Drop_Prob = 0.1, Init_Filters = 64, log_dir_trained_model = log_dir_model, test_batch= 6, epochs= 20)\n",
    "# epochs are needed to define the name of the file to restore the model\n",
    "# test batch has to be defined as a number through which the total amount of test images if dividable"
   ]
  },
  {
   "cell_type": "markdown",
   "metadata": {
    "colab_type": "text",
    "id": "bQ3-lhXjltfr"
   },
   "source": [
    "Beneith some functions are indicated that can be used to evaluate the trained model. They are all brought together in the Evaluate funtion."
   ]
  },
  {
   "cell_type": "code",
   "execution_count": null,
   "metadata": {
    "colab": {},
    "colab_type": "code",
    "id": "duNuxs-hltfr"
   },
   "outputs": [],
   "source": [
    "def ROC(pred_probs, true_probs, plot = True):\n",
    "    '''\n",
    "    This function calculates the ROC-AUC value\n",
    "    and it also calculates and visualizes the ROC-curve (if plot is true)\n",
    "    '''\n",
    "    \n",
    "    # calculate and print out ROC-AUC value\n",
    "    ROC_AUC = roc_auc_score(true_probs, pred_probs)\n",
    "    \n",
    "    # calculate and plot the ROC-curve\n",
    "    if plot:\n",
    "        FPRate, TPRate, Thresh = roc_curve(true_probs, pred_probs)\n",
    "        plt.figure()\n",
    "        plt.plot(FPRate, TPRate)\n",
    "        plt.title('ROC curve')\n",
    "        plt.xlabel('False Positive Rate')\n",
    "        plt.ylabel('True Positive Rate')\n",
    "        plt.show()\n",
    "\n",
    "    return ROC_AUC"
   ]
  },
  {
   "cell_type": "code",
   "execution_count": null,
   "metadata": {
    "colab": {},
    "colab_type": "code",
    "id": "5H_DmGBHltft"
   },
   "outputs": [],
   "source": [
    "def PRC(pred_probs, true_probs, plot = True):\n",
    "    '''\n",
    "    Calculate the aupr value = the area under the precision-recall curve\n",
    "    and plot the precision-recall curve (if plot is true)\n",
    "    '''\n",
    "    \n",
    "    # calculate the precision-recall curve\n",
    "    Precision, Recall, Thresh = precision_recall_curve(true_probs, pred_probs)\n",
    "    Precision = np.fliplr([Precision])[0]  # so the array is increasing (you won't get negative AUC)\n",
    "    Recall = np.fliplr([Recall])[0]  # so the array is increasing (you won't get negative AUC)\n",
    "    AUPR = np.trapz(Precision, Recall)\n",
    "      \n",
    "    \n",
    "    # plot the precision-recall curve\n",
    "    if plot:\n",
    "        plt.figure()\n",
    "        plt.plot(Precision, Recall)\n",
    "        plt.title('Precision-Recall curve')\n",
    "        plt.xlabel('Precision')\n",
    "        plt.ylabel('Recall')\n",
    "        plt.show()\n",
    "    \n",
    "    return AUPR"
   ]
  },
  {
   "cell_type": "code",
   "execution_count": null,
   "metadata": {
    "colab": {},
    "colab_type": "code",
    "id": "C0D0-w7Eltfv"
   },
   "outputs": [],
   "source": [
    "def ConfusionMatrix(pred_probs, true_probs, threshold_confusion = 0.5):\n",
    "    '''\n",
    "    Calculate and print out the confusion matrix\n",
    "    The values for the confusion matrix are also returned\n",
    "    A standard threhsold of 0.5 is used to calculate the confusion matrix\n",
    "    '''\n",
    "    # print out the threshold that is used for the confusion matrix\n",
    "    print(\"Confusion matrix with a used threshold of {} for the positive class:\".format(threshold_confusion))\n",
    "    \n",
    "    # turn the predicted probability maps into binary outputs according to the threshold\n",
    "    # binary annotation\n",
    "\n",
    "    thresh_pred_probs = np.empty((pred_probs.shape[0]))\n",
    "    for i in range(pred_probs.shape[0]):\n",
    "        if pred_probs[i] >= threshold_confusion:\n",
    "            thresh_pred_probs[i] = 1\n",
    "        else:\n",
    "            thresh_pred_probs[i] = 0\n",
    "    \n",
    "    # calculate the confusion-matrix and print it out\n",
    "    TN, FP, FN, TP = confusion_matrix(true_probs, thresh_pred_probs).ravel()\n",
    "    print('Amount of true positives: {}'.format(TP))\n",
    "    print('Amount of false positives: {}'.format(FP))\n",
    "    print('Amount of true negatives: {}'.format(TN))\n",
    "    print('Amount of false negatives: {}'.format(FN))\n",
    "    \n",
    "    return TN, FP, FN, TP"
   ]
  },
  {
   "cell_type": "code",
   "execution_count": null,
   "metadata": {
    "colab": {},
    "colab_type": "code",
    "id": "2J9K_4CXltfy"
   },
   "outputs": [],
   "source": [
    "def Metrics(tn, fp, fn, tp):\n",
    "    '''Print out some metrics like the accuracy, specificity, sensitivity and precision'''\n",
    "    \n",
    "    print('Some metrics:')\n",
    "    \n",
    "    # print out accuracy\n",
    "    accuracy = 0\n",
    "    if (tn+fp+fn+tp) != 0:\n",
    "        accuracy = (tp+tn)/(tn+fp+fn+tp)\n",
    "    print('Accuracy: {}'.format(accuracy))\n",
    "    \n",
    "    # print out specificity\n",
    "    specificity = 0\n",
    "    if (tn+fp) != 0:\n",
    "        specificity = tn/(tn+fp)\n",
    "    print('Specificity: {}'.format(specificity))\n",
    "    \n",
    "    # print out sensitivity\n",
    "    sensitivity = 0\n",
    "    if (tp+fn) != 0:\n",
    "        sensitivity = tp/(tp+fn)\n",
    "    print('Sensitivity: {}'.format(sensitivity))\n",
    "    \n",
    "    # print out precision\n",
    "    precision = 0\n",
    "    if (tp+fp) != 0:\n",
    "        precision = tp/(tp+fp)\n",
    "    print('Precision: {}'.format(precision))\n"
   ]
  },
  {
   "cell_type": "code",
   "execution_count": null,
   "metadata": {
    "colab": {},
    "colab_type": "code",
    "id": "Yb1w7jtWltf0"
   },
   "outputs": [],
   "source": [
    "# evaluation of the model\n",
    "def Evaluate(pred_prob_maps, true_prob_maps):\n",
    "    '''\n",
    "    Evaluation of the network, based on comparisson between the true and predicted outputs\n",
    "    '''\n",
    "    print('Evaluating the model...')\n",
    "    \n",
    "    # creat a 1D numpy array with the predicted and true outputs\n",
    "    pred_prob_maps = pred_prob_maps.reshape(-1)\n",
    "    true_prob_maps = true_prob_maps.reshape(-1)\n",
    "\n",
    "    # print out ROC-AUC value and plot the ROC-curve\n",
    "    ROC_AUC = ROC(pred_prob_maps, true_prob_maps)\n",
    "    print('Area under the ROC curve: {}'.format(ROC_AUC))\n",
    "\n",
    "    # print out area under the precision-recall curve, AUPR value\n",
    "    AUPR = PRC(pred_prob_maps, true_prob_maps)\n",
    "    print('Area under Precision-Recall curve: {}'.format(AUPR))\n",
    "    \n",
    "    # print out confusion matrix\n",
    "    TN, FP, FN, TP = ConfusionMatrix(pred_prob_maps, true_prob_maps)\n",
    "    \n",
    "    # print out some metrics\n",
    "    Metrics(TN, FP, FN, TP)"
   ]
  },
  {
   "cell_type": "code",
   "execution_count": null,
   "metadata": {
    "colab": {
     "base_uri": "https://localhost:8080/",
     "height": 790
    },
    "colab_type": "code",
    "executionInfo": {
     "elapsed": 133647,
     "status": "ok",
     "timestamp": 1596199877849,
     "user": {
      "displayName": "Luna Maris",
      "photoUrl": "",
      "userId": "08279542388537467787"
     },
     "user_tz": -120
    },
    "id": "Lc3-uk51ltf2",
    "outputId": "b9e46c46-a0b3-4f84-f3ee-2e7942cf7811"
   },
   "outputs": [
    {
     "name": "stdout",
     "output_type": "stream",
     "text": [
      "Evaluating the model...\n"
     ]
    },
    {
     "data": {
      "image/png": "[encoded data removed]",
      "text/plain": [
       "<Figure size 432x288 with 1 Axes>"
      ]
     },
     "metadata": {
      "needs_background": "light",
      "tags": []
     },
     "output_type": "display_data"
    },
    {
     "name": "stdout",
     "output_type": "stream",
     "text": [
      "Area under the ROC curve: 0.6749836475818388\n"
     ]
    },
    {
     "data": {
      "image/png": "[encoded data removed]",
      "text/plain": [
       "<Figure size 432x288 with 1 Axes>"
      ]
     },
     "metadata": {
      "needs_background": "light",
      "tags": []
     },
     "output_type": "display_data"
    },
    {
     "name": "stdout",
     "output_type": "stream",
     "text": [
      "Area under Precision-Recall curve: 0.02692973508205889\n",
      "Confusion matrix with a used threshold of 0.5 for the positive class:\n",
      "Amount of true positives: 510368\n",
      "Amount of false positives: 24561766\n",
      "Amount of true negatives: 15708104\n",
      "Amount of false negatives: 114226\n",
      "Some metrics:\n",
      "Accuracy: 0.39659333840394634\n",
      "Specificity: 0.3900708892281003\n",
      "Sensitivity: 0.8171196008927399\n",
      "Precision: 0.02035598565323558\n"
     ]
    }
   ],
   "source": [
    "Evaluate(predicted_annot, test_annotations)"
   ]
  },
  {
   "cell_type": "code",
   "execution_count": null,
   "metadata": {
    "colab": {},
    "colab_type": "code",
    "id": "1Xi_6BtdltgA"
   },
   "outputs": [],
   "source": [
    "# to visualize some predictions\n",
    "def PlotImage(image_array, database = '', image_name = '', save = False, savepath = ''):\n",
    "    '''Visualize (and save if desired) an image represented by a numpy array'''\n",
    "    \n",
    "    plt.figure()\n",
    "    plt.title(database+': '+image_name)\n",
    "    plt.xlabel('x')\n",
    "    plt.ylabel('y')\n",
    "    plt.imshow(image_array, cmap=plt.cm.Greys_r)\n",
    "    \n",
    "    if save == True:\n",
    "        plt.savefig(savepath+database+'_'+image_name+'.png')\n",
    "    \n",
    "    return "
   ]
  },
  {
   "cell_type": "code",
   "execution_count": null,
   "metadata": {
    "colab": {
     "base_uri": "https://localhost:8080/",
     "height": 590
    },
    "colab_type": "code",
    "executionInfo": {
     "elapsed": 2482,
     "status": "ok",
     "timestamp": 1596199627044,
     "user": {
      "displayName": "Luna Maris",
      "photoUrl": "",
      "userId": "08279542388537467787"
     },
     "user_tz": -120
    },
    "id": "LcSoBz53lCec",
    "outputId": "d9506e40-007f-4782-dfa6-33ace7548d29"
   },
   "outputs": [
    {
     "name": "stdout",
     "output_type": "stream",
     "text": [
      "(156, 512, 512)\n"
     ]
    },
    {
     "data": {
      "image/png": "[encoded data removed]",
      "text/plain": [
       "<Figure size 432x288 with 1 Axes>"
      ]
     },
     "metadata": {
      "needs_background": "light",
      "tags": []
     },
     "output_type": "display_data"
    },
    {
     "data": {
      "image/png": "[encoded data removed]",
      "text/plain": [
       "<Figure size 432x288 with 1 Axes>"
      ]
     },
     "metadata": {
      "needs_background": "light",
      "tags": []
     },
     "output_type": "display_data"
    }
   ],
   "source": [
    "# visualize the predicted probability map annotation and the predicted binary annotation\n",
    "# probability map annotation\n",
    "prob_annotation = predicted_annot[0]\n",
    "PlotImage(prob_annotation, database = 'Annotation, probability map')\n",
    "\n",
    "\n",
    "# binary annotation\n",
    "positives = np.where(prob_annotation > 0.5)\n",
    "bin_annotation = np.zeros(prob_annotation.shape)\n",
    "bin_annotation[positives] = 1\n",
    "\n",
    "PlotImage(bin_annotation, database = 'Annotation, binary map')"
   ]
  },
  {
   "cell_type": "markdown",
   "metadata": {
    "colab_type": "text",
    "id": "mzK2Ng7ZltgC"
   },
   "source": [
    "To kill an active tensorboard session:\n",
    "Go to the anaconda prompt and type:\n",
    "\n",
    "taskkill /im tensorboard.exe /f\n",
    "\n",
    "del /q %TMP%\\.tensorboard-info\\*\n",
    "\n",
    "\n",
    "or in the windows command prompt:\n",
    "\n",
    "taskkill /IM \"tensorboard.exe\" /F"
   ]
  }
 ],
 "metadata": {
  "accelerator": "GPU",
  "colab": {
   "collapsed_sections": [],
   "name": "UNet_sigmoid_Testing.ipynb",
   "provenance": [
    {
     "file_id": "1QMAMVVMbSl6bTe6A09aprdmgYrNBEcrI",
     "timestamp": 1596124763495
    },
    {
     "file_id": "1cPo0a7rxvx8xVA1rLbdlTcdllub8HVn5",
     "timestamp": 1596020580331
    },
    {
     "file_id": "1N09tXe6iDGW9tt3_cWA_K-sYrT1Q98qq",
     "timestamp": 1596016036593
    },
    {
     "file_id": "1pvSj2cOo177dqWp1y6lbiwohGTGeGVm1",
     "timestamp": 1596012829809
    },
    {
     "file_id": "1ko8HCMMTNlaR1MCC-1f6QL1uAaqzHXwO",
     "timestamp": 1595928299309
    },
    {
     "file_id": "1cjKN36peUbhC36sgbu1cp5rwTPmzAtcg",
     "timestamp": 1595852695030
    }
   ]
  },
  "kernelspec": {
   "display_name": "Python 3",
   "language": "python",
   "name": "python3"
  },
  "language_info": {
   "codemirror_mode": {
    "name": "ipython",
    "version": 3
   },
   "file_extension": ".py",
   "mimetype": "text/x-python",
   "name": "python",
   "nbconvert_exporter": "python",
   "pygments_lexer": "ipython3",
   "version": "3.7.7"
  }
 },
 "nbformat": 4,
 "nbformat_minor": 1
}
